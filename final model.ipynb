{
 "cells": [
  {
   "cell_type": "code",
   "execution_count": 2,
   "id": "a14a93a3",
   "metadata": {},
   "outputs": [],
   "source": [
    "#####import libraries and data\n",
    "\n",
    "#import libraries\n",
    "import pandas as pd\n",
    "\n",
    "#supress warnings\n",
    "import warnings\n",
    "warnings.filterwarnings(\"ignore\")\n",
    "\n",
    "#import data\n",
    "X_train = pd.read_csv('data/preprocessed/X_train.csv')\n",
    "X_test = pd.read_csv('data/preprocessed/X_test.csv')\n",
    "y_train = pd.read_csv('data/preprocessed/y_train.csv')\n",
    "y_test = pd.read_csv('data/preprocessed/y_test.csv')\n",
    "\n",
    "\n",
    "#import ML package\n",
    "from sklearn.svm import SVR\n",
    "\n",
    "#support vector regressor final model\n",
    "svr_model = SVR(C=24, coef0= 0.9, gamma='scale', kernel='poly')\n",
    "svr_model.fit(X_train,y_train)\n",
    "tpred_svr=svr_model.predict(X_test)\n",
    "\n",
    "\n",
    "#####pickle\n",
    "import pickle\n",
    "\n",
    "outfile = open('support_vector_regression_model.pkl', 'wb')\n",
    "pickle.dump(svr_model,outfile)\n",
    "outfile.close()\n"
   ]
  },
  {
   "cell_type": "code",
   "execution_count": null,
   "id": "7bcdb6de",
   "metadata": {},
   "outputs": [],
   "source": []
  }
 ],
 "metadata": {
  "kernelspec": {
   "display_name": "Python 3",
   "language": "python",
   "name": "python3"
  },
  "language_info": {
   "codemirror_mode": {
    "name": "ipython",
    "version": 3
   },
   "file_extension": ".py",
   "mimetype": "text/x-python",
   "name": "python",
   "nbconvert_exporter": "python",
   "pygments_lexer": "ipython3",
   "version": "3.9.6"
  }
 },
 "nbformat": 4,
 "nbformat_minor": 5
}
